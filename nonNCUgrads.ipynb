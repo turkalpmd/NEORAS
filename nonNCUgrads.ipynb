{
 "cells": [
  {
   "cell_type": "code",
   "execution_count": 1,
   "metadata": {},
   "outputs": [],
   "source": [
    "import pandas as pd\n",
    "import numpy as np\n",
    "import warnings\n",
    "warnings.filterwarnings(\"ignore\")\n",
    "# Dosya yolu\n",
    "file_path = r\"C:\\Users\\AKBASLI\\OneDrive - Cleveland Clinic\\Desktop\\NEORAS\\ADas_NEORAS_20241203.csv\"\n",
    "\n",
    "# Veriyi pandas ile okuma\n",
    "data = pd.read_csv(file_path)\n",
    "nicupt = pd.read_csv(r\"C:\\Users\\AKBASLI\\OneDrive - Cleveland Clinic\\Desktop\\NEORAS\\NICUChildID.csv\")"
   ]
  },
  {
   "cell_type": "code",
   "execution_count": 2,
   "metadata": {},
   "outputs": [],
   "source": [
    "nicuptlist = nicupt['ChildPatientID'].tolist()"
   ]
  },
  {
   "cell_type": "code",
   "execution_count": 3,
   "metadata": {},
   "outputs": [
    {
     "data": {
      "text/plain": [
       "(42, 85)"
      ]
     },
     "execution_count": 3,
     "metadata": {},
     "output_type": "execute_result"
    }
   ],
   "source": [
    "data[data['ChildPatientID'].isin(nicuptlist)].shape"
   ]
  },
  {
   "cell_type": "code",
   "execution_count": 4,
   "metadata": {},
   "outputs": [
    {
     "data": {
      "text/plain": [
       "ChildReadmissionFirstMonth\n",
       "N    32664\n",
       "Y      222\n",
       "Name: count, dtype: int64"
      ]
     },
     "execution_count": 4,
     "metadata": {},
     "output_type": "execute_result"
    }
   ],
   "source": [
    "data.ChildReadmissionFirstMonth.value_counts()"
   ]
  },
  {
   "cell_type": "code",
   "execution_count": 5,
   "metadata": {},
   "outputs": [
    {
     "name": "stdout",
     "output_type": "stream",
     "text": [
      "Number of abortions: 312\n"
     ]
    },
    {
     "data": {
      "text/plain": [
       "target\n",
       "0    24057\n",
       "1     8516\n",
       "Name: count, dtype: int64"
      ]
     },
     "execution_count": 5,
     "metadata": {},
     "output_type": "execute_result"
    }
   ],
   "source": [
    "abortions = data[data['Spontaneous abortion'] == 'Y'].shape[0]\n",
    "print(f\"Number of abortions: {abortions}\")\n",
    "data = data[data['Spontaneous abortion'] != 'Y'] # Eliminates to abortions\n",
    "# Create the target feature\n",
    "data['target'] = (                                                          # Inclusion criteria\n",
    "                  (data.ChildOfficeVisitsFirstMonth > 3) |                  # 3 or more office visits\n",
    "                  (data.ChildER_VisitFirstMonth == 'Y') |                   # ER visit\n",
    "                  (data.ChildReadmissionFirstMonth == 'Y')).astype(int)     # Readmission\n",
    "\n",
    "data = data[data.ChildLengthOfStayHours <= (24*7*2)]\n",
    "# Drop the specified features because they are already merged into the target feature\n",
    "features_to_drop = ['ChildOfficeVisitsFirstMonth', 'ChildER_VisitFirstMonth', 'ChildReadmissionFirstMonth']\n",
    "data.drop(columns=features_to_drop, inplace=True)\n",
    "\n",
    "# Display the first few rows of the updated dataframe\n",
    "data.target.value_counts()"
   ]
  },
  {
   "cell_type": "code",
   "execution_count": 6,
   "metadata": {},
   "outputs": [
    {
     "data": {
      "text/plain": [
       "0.2614435268473889"
      ]
     },
     "execution_count": 6,
     "metadata": {},
     "output_type": "execute_result"
    }
   ],
   "source": [
    "8516/data.shape[0] # 8516 patients with target = 1"
   ]
  },
  {
   "cell_type": "code",
   "execution_count": 7,
   "metadata": {},
   "outputs": [
    {
     "ename": "KeyError",
     "evalue": "\"['Parity_Status', 'Gravida_Status', 'dischargeseason', 'PROM', 'GlucoseGelGiven', 'GestWeek', 'MinHemoglobin'] not in index\"",
     "output_type": "error",
     "traceback": [
      "\u001b[1;31m---------------------------------------------------------------------------\u001b[0m",
      "\u001b[1;31mKeyError\u001b[0m                                  Traceback (most recent call last)",
      "Cell \u001b[1;32mIn[7], line 14\u001b[0m\n\u001b[0;32m      1\u001b[0m data\u001b[38;5;241m.\u001b[39mrename(columns\u001b[38;5;241m=\u001b[39m{\u001b[38;5;124m'\u001b[39m\u001b[38;5;124mAntepartum Haemorrhage\u001b[39m\u001b[38;5;124m'\u001b[39m:\u001b[38;5;124m'\u001b[39m\u001b[38;5;124mAntepartum_Haemorrhage\u001b[39m\u001b[38;5;124m'\u001b[39m,\n\u001b[0;32m      2\u001b[0m                      \u001b[38;5;124m'\u001b[39m\u001b[38;5;124mMaternal chronic hypertension\u001b[39m\u001b[38;5;124m'\u001b[39m:\u001b[38;5;124m'\u001b[39m\u001b[38;5;124mMaternal_chronic_hypertension\u001b[39m\u001b[38;5;124m'\u001b[39m,\n\u001b[0;32m      3\u001b[0m                         \u001b[38;5;124m'\u001b[39m\u001b[38;5;124mMaternal Diabetes\u001b[39m\u001b[38;5;124m'\u001b[39m:\u001b[38;5;124m'\u001b[39m\u001b[38;5;124mMaternal_Diabetes\u001b[39m\u001b[38;5;124m'\u001b[39m,\n\u001b[1;32m   (...)\u001b[0m\n\u001b[0;32m     11\u001b[0m \n\u001b[0;32m     12\u001b[0m                      }, inplace\u001b[38;5;241m=\u001b[39m\u001b[38;5;28;01mTrue\u001b[39;00m)\n\u001b[1;32m---> 14\u001b[0m \u001b[43mdata\u001b[49m\u001b[43m[\u001b[49m\u001b[43m[\u001b[49m\u001b[43m                     \u001b[49m\n\u001b[0;32m     15\u001b[0m \u001b[38;5;124;43m'\u001b[39;49m\u001b[38;5;124;43mMaternalRace\u001b[39;49m\u001b[38;5;124;43m'\u001b[39;49m\u001b[43m,\u001b[49m\n\u001b[0;32m     16\u001b[0m \u001b[38;5;124;43m'\u001b[39;49m\u001b[38;5;124;43mLatestMaritalStatus\u001b[39;49m\u001b[38;5;124;43m'\u001b[39;49m\u001b[43m,\u001b[49m\n\u001b[0;32m     17\u001b[0m \u001b[38;5;124;43m'\u001b[39;49m\u001b[38;5;124;43mMultipleGestation\u001b[39;49m\u001b[38;5;124;43m'\u001b[39;49m\u001b[43m,\u001b[49m\n\u001b[0;32m     18\u001b[0m \u001b[38;5;124;43m'\u001b[39;49m\u001b[38;5;124;43mMaternal_chronic_hypertension\u001b[39;49m\u001b[38;5;124;43m'\u001b[39;49m\u001b[43m,\u001b[49m\n\u001b[0;32m     19\u001b[0m \u001b[38;5;124;43m'\u001b[39;49m\u001b[38;5;124;43mMaternal_Diabetes\u001b[39;49m\u001b[38;5;124;43m'\u001b[39;49m\u001b[43m,\u001b[49m\n\u001b[0;32m     20\u001b[0m \u001b[38;5;66;43;03m#'Oligohydramnios',\u001b[39;49;00m\n\u001b[0;32m     21\u001b[0m \u001b[38;5;124;43m'\u001b[39;49m\u001b[38;5;124;43mParity_Status\u001b[39;49m\u001b[38;5;124;43m'\u001b[39;49m\u001b[43m,\u001b[49m\n\u001b[0;32m     22\u001b[0m \u001b[38;5;124;43m'\u001b[39;49m\u001b[38;5;124;43mGravida_Status\u001b[39;49m\u001b[38;5;124;43m'\u001b[39;49m\u001b[43m,\u001b[49m\n\u001b[0;32m     23\u001b[0m \u001b[38;5;66;43;03m#'Gestational_Category',\u001b[39;49;00m\n\u001b[0;32m     24\u001b[0m \u001b[38;5;124;43m'\u001b[39;49m\u001b[38;5;124;43mdischargeseason\u001b[39;49m\u001b[38;5;124;43m'\u001b[39;49m\u001b[43m,\u001b[49m\n\u001b[0;32m     25\u001b[0m \u001b[38;5;124;43m'\u001b[39;49m\u001b[38;5;124;43mDeliveryType\u001b[39;49m\u001b[38;5;124;43m'\u001b[39;49m\u001b[43m,\u001b[49m\n\u001b[0;32m     26\u001b[0m \u001b[38;5;66;43;03m#'BirthWeight_Category',\u001b[39;49;00m\n\u001b[0;32m     27\u001b[0m \u001b[38;5;66;43;03m#'AnyDrugAbusiveBehavior',\u001b[39;49;00m\n\u001b[0;32m     28\u001b[0m \u001b[38;5;124;43m'\u001b[39;49m\u001b[38;5;124;43mPROM\u001b[39;49m\u001b[38;5;124;43m'\u001b[39;49m\u001b[43m,\u001b[49m\n\u001b[0;32m     29\u001b[0m \u001b[38;5;124;43m'\u001b[39;49m\u001b[38;5;124;43mDesaturations\u001b[39;49m\u001b[38;5;124;43m'\u001b[39;49m\u001b[43m,\u001b[49m\n\u001b[0;32m     30\u001b[0m \u001b[38;5;124;43m'\u001b[39;49m\u001b[38;5;124;43mGlucoseGelGiven\u001b[39;49m\u001b[38;5;124;43m'\u001b[39;49m\u001b[43m,\u001b[49m\n\u001b[0;32m     31\u001b[0m \u001b[38;5;124;43m'\u001b[39;49m\u001b[38;5;124;43mFailedHearing\u001b[39;49m\u001b[38;5;124;43m'\u001b[39;49m\u001b[43m,\u001b[49m\n\u001b[0;32m     32\u001b[0m \n\u001b[0;32m     33\u001b[0m \u001b[38;5;124;43m'\u001b[39;49m\u001b[38;5;124;43mGestWeek\u001b[39;49m\u001b[38;5;124;43m'\u001b[39;49m\u001b[43m,\u001b[49m\n\u001b[0;32m     34\u001b[0m \u001b[38;5;124;43m'\u001b[39;49m\u001b[38;5;124;43mBirthWeight_Grams\u001b[39;49m\u001b[38;5;124;43m'\u001b[39;49m\u001b[43m,\u001b[49m\n\u001b[0;32m     35\u001b[0m \u001b[38;5;66;43;03m#'Apgar1Minute',\u001b[39;49;00m\n\u001b[0;32m     36\u001b[0m \u001b[38;5;124;43m'\u001b[39;49m\u001b[38;5;124;43mApgar5Minute\u001b[39;49m\u001b[38;5;124;43m'\u001b[39;49m\u001b[43m,\u001b[49m\n\u001b[0;32m     37\u001b[0m \u001b[38;5;124;43m'\u001b[39;49m\u001b[38;5;124;43mCord_pH_Arterial\u001b[39;49m\u001b[38;5;124;43m'\u001b[39;49m\u001b[43m,\u001b[49m\n\u001b[0;32m     38\u001b[0m \u001b[38;5;124;43m'\u001b[39;49m\u001b[38;5;124;43mChildLengthOfStayHours\u001b[39;49m\u001b[38;5;124;43m'\u001b[39;49m\u001b[43m,\u001b[49m\n\u001b[0;32m     39\u001b[0m \u001b[38;5;66;43;03m#'MinHeartRate',\u001b[39;49;00m\n\u001b[0;32m     40\u001b[0m \u001b[38;5;124;43m'\u001b[39;49m\u001b[38;5;124;43mMinHemoglobin\u001b[39;49m\u001b[38;5;124;43m'\u001b[39;49m\u001b[43m,\u001b[49m\n\u001b[0;32m     41\u001b[0m \u001b[38;5;124;43m'\u001b[39;49m\u001b[38;5;124;43mPercentWeightLoss\u001b[39;49m\u001b[38;5;124;43m'\u001b[39;49m\u001b[43m,\u001b[49m\n\u001b[0;32m     42\u001b[0m \u001b[38;5;124;43m'\u001b[39;49m\u001b[38;5;124;43mtarget\u001b[39;49m\u001b[38;5;124;43m'\u001b[39;49m\u001b[43m]\u001b[49m\u001b[43m]\u001b[49m\n",
      "File \u001b[1;32mc:\\Users\\AKBASLI\\AppData\\Local\\miniforge3\\envs\\pc4\\lib\\site-packages\\pandas\\core\\frame.py:3767\u001b[0m, in \u001b[0;36mDataFrame.__getitem__\u001b[1;34m(self, key)\u001b[0m\n\u001b[0;32m   3765\u001b[0m     \u001b[38;5;28;01mif\u001b[39;00m is_iterator(key):\n\u001b[0;32m   3766\u001b[0m         key \u001b[38;5;241m=\u001b[39m \u001b[38;5;28mlist\u001b[39m(key)\n\u001b[1;32m-> 3767\u001b[0m     indexer \u001b[38;5;241m=\u001b[39m \u001b[38;5;28;43mself\u001b[39;49m\u001b[38;5;241;43m.\u001b[39;49m\u001b[43mcolumns\u001b[49m\u001b[38;5;241;43m.\u001b[39;49m\u001b[43m_get_indexer_strict\u001b[49m\u001b[43m(\u001b[49m\u001b[43mkey\u001b[49m\u001b[43m,\u001b[49m\u001b[43m \u001b[49m\u001b[38;5;124;43m\"\u001b[39;49m\u001b[38;5;124;43mcolumns\u001b[39;49m\u001b[38;5;124;43m\"\u001b[39;49m\u001b[43m)\u001b[49m[\u001b[38;5;241m1\u001b[39m]\n\u001b[0;32m   3769\u001b[0m \u001b[38;5;66;03m# take() does not accept boolean indexers\u001b[39;00m\n\u001b[0;32m   3770\u001b[0m \u001b[38;5;28;01mif\u001b[39;00m \u001b[38;5;28mgetattr\u001b[39m(indexer, \u001b[38;5;124m\"\u001b[39m\u001b[38;5;124mdtype\u001b[39m\u001b[38;5;124m\"\u001b[39m, \u001b[38;5;28;01mNone\u001b[39;00m) \u001b[38;5;241m==\u001b[39m \u001b[38;5;28mbool\u001b[39m:\n",
      "File \u001b[1;32mc:\\Users\\AKBASLI\\AppData\\Local\\miniforge3\\envs\\pc4\\lib\\site-packages\\pandas\\core\\indexes\\base.py:5877\u001b[0m, in \u001b[0;36mIndex._get_indexer_strict\u001b[1;34m(self, key, axis_name)\u001b[0m\n\u001b[0;32m   5874\u001b[0m \u001b[38;5;28;01melse\u001b[39;00m:\n\u001b[0;32m   5875\u001b[0m     keyarr, indexer, new_indexer \u001b[38;5;241m=\u001b[39m \u001b[38;5;28mself\u001b[39m\u001b[38;5;241m.\u001b[39m_reindex_non_unique(keyarr)\n\u001b[1;32m-> 5877\u001b[0m \u001b[38;5;28;43mself\u001b[39;49m\u001b[38;5;241;43m.\u001b[39;49m\u001b[43m_raise_if_missing\u001b[49m\u001b[43m(\u001b[49m\u001b[43mkeyarr\u001b[49m\u001b[43m,\u001b[49m\u001b[43m \u001b[49m\u001b[43mindexer\u001b[49m\u001b[43m,\u001b[49m\u001b[43m \u001b[49m\u001b[43maxis_name\u001b[49m\u001b[43m)\u001b[49m\n\u001b[0;32m   5879\u001b[0m keyarr \u001b[38;5;241m=\u001b[39m \u001b[38;5;28mself\u001b[39m\u001b[38;5;241m.\u001b[39mtake(indexer)\n\u001b[0;32m   5880\u001b[0m \u001b[38;5;28;01mif\u001b[39;00m \u001b[38;5;28misinstance\u001b[39m(key, Index):\n\u001b[0;32m   5881\u001b[0m     \u001b[38;5;66;03m# GH 42790 - Preserve name from an Index\u001b[39;00m\n",
      "File \u001b[1;32mc:\\Users\\AKBASLI\\AppData\\Local\\miniforge3\\envs\\pc4\\lib\\site-packages\\pandas\\core\\indexes\\base.py:5941\u001b[0m, in \u001b[0;36mIndex._raise_if_missing\u001b[1;34m(self, key, indexer, axis_name)\u001b[0m\n\u001b[0;32m   5938\u001b[0m     \u001b[38;5;28;01mraise\u001b[39;00m \u001b[38;5;167;01mKeyError\u001b[39;00m(\u001b[38;5;124mf\u001b[39m\u001b[38;5;124m\"\u001b[39m\u001b[38;5;124mNone of [\u001b[39m\u001b[38;5;132;01m{\u001b[39;00mkey\u001b[38;5;132;01m}\u001b[39;00m\u001b[38;5;124m] are in the [\u001b[39m\u001b[38;5;132;01m{\u001b[39;00maxis_name\u001b[38;5;132;01m}\u001b[39;00m\u001b[38;5;124m]\u001b[39m\u001b[38;5;124m\"\u001b[39m)\n\u001b[0;32m   5940\u001b[0m not_found \u001b[38;5;241m=\u001b[39m \u001b[38;5;28mlist\u001b[39m(ensure_index(key)[missing_mask\u001b[38;5;241m.\u001b[39mnonzero()[\u001b[38;5;241m0\u001b[39m]]\u001b[38;5;241m.\u001b[39munique())\n\u001b[1;32m-> 5941\u001b[0m \u001b[38;5;28;01mraise\u001b[39;00m \u001b[38;5;167;01mKeyError\u001b[39;00m(\u001b[38;5;124mf\u001b[39m\u001b[38;5;124m\"\u001b[39m\u001b[38;5;132;01m{\u001b[39;00mnot_found\u001b[38;5;132;01m}\u001b[39;00m\u001b[38;5;124m not in index\u001b[39m\u001b[38;5;124m\"\u001b[39m)\n",
      "\u001b[1;31mKeyError\u001b[0m: \"['Parity_Status', 'Gravida_Status', 'dischargeseason', 'PROM', 'GlucoseGelGiven', 'GestWeek', 'MinHemoglobin'] not in index\""
     ]
    }
   ],
   "source": [
    "data.rename(columns={'Antepartum Haemorrhage':'Antepartum_Haemorrhage',\n",
    "                     'Maternal chronic hypertension':'Maternal_chronic_hypertension',\n",
    "                        'Maternal Diabetes':'Maternal_Diabetes',\n",
    "                        'Maternal pregnancy-induced hypertension':'Maternal_pregnancy_induced_hypertension',\n",
    "                        'Preterm premature rupture of membranes':'Preterm_premature_rupture_of_membranes',\n",
    "                        'Placenta previa':'Placenta_previa',\n",
    "                        'Pregnancy Complications':'Pregnancy_Complications',\n",
    "                        'Pre-eclampsia':'Pre_eclampsia',\n",
    "                        'Umbilical cord prolapse':'Umbilical_cord_prolapse',\n",
    "                        \n",
    "\n",
    "                     }, inplace=True)\n",
    "\n",
    "data[[                     \n",
    "'MaternalRace',\n",
    "'LatestMaritalStatus',\n",
    "'MultipleGestation',\n",
    "'Maternal_chronic_hypertension',\n",
    "'Maternal_Diabetes',\n",
    "#'Oligohydramnios',\n",
    "'Parity_Status',\n",
    "'Gravida_Status',\n",
    "#'Gestational_Category',\n",
    "'dischargeseason',\n",
    "'DeliveryType',\n",
    "#'BirthWeight_Category',\n",
    "#'AnyDrugAbusiveBehavior',\n",
    "'PROM',\n",
    "'Desaturations',\n",
    "'GlucoseGelGiven',\n",
    "'FailedHearing',\n",
    "\n",
    "'GestWeek',\n",
    "'BirthWeight_Grams',\n",
    "#'Apgar1Minute',\n",
    "'Apgar5Minute',\n",
    "'Cord_pH_Arterial',\n",
    "'ChildLengthOfStayHours',\n",
    "#'MinHeartRate',\n",
    "'MinHemoglobin',\n",
    "'PercentWeightLoss',\n",
    "'target']]"
   ]
  },
  {
   "cell_type": "code",
   "execution_count": null,
   "metadata": {},
   "outputs": [],
   "source": []
  }
 ],
 "metadata": {
  "kernelspec": {
   "display_name": "pc4",
   "language": "python",
   "name": "python3"
  },
  "language_info": {
   "codemirror_mode": {
    "name": "ipython",
    "version": 3
   },
   "file_extension": ".py",
   "mimetype": "text/x-python",
   "name": "python",
   "nbconvert_exporter": "python",
   "pygments_lexer": "ipython3",
   "version": "3.10.15"
  }
 },
 "nbformat": 4,
 "nbformat_minor": 2
}
