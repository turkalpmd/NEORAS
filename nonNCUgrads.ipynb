{
 "cells": [
  {
   "cell_type": "code",
   "execution_count": 24,
   "metadata": {},
   "outputs": [],
   "source": [
    "import pandas as pd\n",
    "import numpy as np\n",
    "import warnings\n",
    "warnings.filterwarnings(\"ignore\")\n",
    "# Dosya yolu\n",
    "file_path = r\"C:\\Users\\AKBASLI\\OneDrive - Cleveland Clinic\\Desktop\\NEORAS\\ADas_NEORAS_20241203.csv\"\n",
    "\n",
    "# Veriyi pandas ile okuma\n",
    "data = pd.read_csv(file_path)\n",
    "nicupt = pd.read_csv(r\"C:\\Users\\AKBASLI\\OneDrive - Cleveland Clinic\\Desktop\\NEORAS\\NICUChildID.csv\")"
   ]
  },
  {
   "cell_type": "code",
   "execution_count": 25,
   "metadata": {},
   "outputs": [],
   "source": [
    "nicuptlist = nicupt['ChildPatientID'].tolist()"
   ]
  },
  {
   "cell_type": "code",
   "execution_count": 26,
   "metadata": {},
   "outputs": [
    {
     "data": {
      "text/plain": [
       "(42, 85)"
      ]
     },
     "execution_count": 26,
     "metadata": {},
     "output_type": "execute_result"
    }
   ],
   "source": [
    "data[data['ChildPatientID'].isin(nicuptlist)].shape"
   ]
  },
  {
   "cell_type": "code",
   "execution_count": 20,
   "metadata": {},
   "outputs": [
    {
     "data": {
      "text/plain": [
       "ChildReadmissionFirstMonth\n",
       "N    32664\n",
       "Y      222\n",
       "Name: count, dtype: int64"
      ]
     },
     "execution_count": 20,
     "metadata": {},
     "output_type": "execute_result"
    }
   ],
   "source": [
    "data.ChildReadmissionFirstMonth.value_counts()"
   ]
  },
  {
   "cell_type": "code",
   "execution_count": 21,
   "metadata": {},
   "outputs": [
    {
     "name": "stdout",
     "output_type": "stream",
     "text": [
      "Number of abortions: 312\n"
     ]
    },
    {
     "data": {
      "text/plain": [
       "target\n",
       "0    24057\n",
       "1     8516\n",
       "Name: count, dtype: int64"
      ]
     },
     "execution_count": 21,
     "metadata": {},
     "output_type": "execute_result"
    }
   ],
   "source": [
    "abortions = data[data['Spontaneous abortion'] == 'Y'].shape[0]\n",
    "print(f\"Number of abortions: {abortions}\")\n",
    "data = data[data['Spontaneous abortion'] != 'Y'] # Eliminates to abortions\n",
    "# Create the target feature\n",
    "data['target'] = (                                                          # Inclusion criteria\n",
    "                  (data.ChildOfficeVisitsFirstMonth > 3) |                  # 3 or more office visits\n",
    "                  (data.ChildER_VisitFirstMonth == 'Y') |                   # ER visit\n",
    "                  (data.ChildReadmissionFirstMonth == 'Y')).astype(int)     # Readmission\n",
    "\n",
    "data = data[data.ChildLengthOfStayHours <= (24*7*2)]\n",
    "# Drop the specified features because they are already merged into the target feature\n",
    "features_to_drop = ['ChildOfficeVisitsFirstMonth', 'ChildER_VisitFirstMonth', 'ChildReadmissionFirstMonth']\n",
    "data.drop(columns=features_to_drop, inplace=True)\n",
    "\n",
    "# Display the first few rows of the updated dataframe\n",
    "data.target.value_counts()"
   ]
  },
  {
   "cell_type": "code",
   "execution_count": 23,
   "metadata": {},
   "outputs": [
    {
     "data": {
      "text/plain": [
       "0.2614435268473889"
      ]
     },
     "execution_count": 23,
     "metadata": {},
     "output_type": "execute_result"
    }
   ],
   "source": [
    "8516/data.shape[0] # 8516 patients with target = 1"
   ]
  },
  {
   "cell_type": "code",
   "execution_count": null,
   "metadata": {},
   "outputs": [],
   "source": []
  }
 ],
 "metadata": {
  "kernelspec": {
   "display_name": "neoras",
   "language": "python",
   "name": "python3"
  },
  "language_info": {
   "codemirror_mode": {
    "name": "ipython",
    "version": 3
   },
   "file_extension": ".py",
   "mimetype": "text/x-python",
   "name": "python",
   "nbconvert_exporter": "python",
   "pygments_lexer": "ipython3",
   "version": "3.11.11"
  }
 },
 "nbformat": 4,
 "nbformat_minor": 2
}
