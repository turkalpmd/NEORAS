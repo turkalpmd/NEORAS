{
 "cells": [
  {
   "cell_type": "code",
   "execution_count": null,
   "metadata": {},
   "outputs": [],
   "source": [
    "# High risk data\n",
    "'MaternalPatientID', 'MaternalMedicalRecordNumber', 'ChildPatientID','ChildMedicalRecordNumber', 'ChildEncounterID', \n",
    "# Clinic Data\n",
    "# Maternal Demographic Characteristics\n",
    "'MaternalAgeAtDelivery','MaternalRace', 'MaternalLanguage', \n",
    "'MyChartAccess',\n",
    "'LatestMaritalStatus', 'YearsOfEducation', 'Gravida', 'Parity',\n",
    "'DeliveryDate', 'GestationalAge_Weeks', 'GestAge_Days',\n",
    "'ChildDeathDate', 'MaternalDeathDate', \n",
    "# Children demographic characteristics\n",
    "'ChildGender', 'ChildRace','ChildEthnicity',\n",
    "\n",
    "# Prenatal Characteristics\n",
    "'Mother_BMI_AtDelivery', 'PrePregnancyWeight_KG',\n",
    "'PositiveDrugScreenDuringPregnancy','Alcohol abuse', 'Smoking during pregnancy',\n",
    "# Enfections\n",
    "'HepB_PositiveDuringPregnancy', 'HCV_PositiveDuringPregnancy',\n",
    "'HIV_PositiveDuringPregnancy', 'SyphilisPositiveDuringPregnancy',\n",
    "'GBS_PositiveDuringPregnancy', \n",
    "# Prenatal Complications and Other Situations\n",
    "'Antepartum Haemorrhage', 'Eclampsia', 'IUGR',\n",
    "'Maternal chronic hypertension', 'Maternal Diabetes',\n",
    "'Maternal pregnancy-induced hypertension', 'Oligohydramnios',\n",
    "'Placenta previa', 'Polyhydramnios', 'Pre-eclampsia',\n",
    "'Pregnancy Complications', 'Preterm premature rupture of membranes',\n",
    "'Spontaneous abortion',\n",
    "'Umbilical cord prolapse', \n",
    "\n",
    "\n",
    "'Vaginal delivery',\n",
    "# Drop This Features because doesnt have data NA all of there\n",
    "# SSRI_DuringPregnancy,Suboxone_DuringPregnancy\n",
    "#  \n",
    "# Natal and Delivery Characteristics\n",
    "'DeliveryType', 'ROM_Time', 'MultipleGestation',\n",
    "# ER visit Characteristics\n",
    "'ER_VisitDuringPregnancy', 'ChildER_VisitFirstMonth',\n",
    "'ChildReadmissionFirstMonth', 'ChildOfficeVisitsFirstMonth',\n",
    "'AppointmentMadeDuringAdmission',\n",
    "# Ward characteristics\n",
    "'ChildLengthOfStayHours', 'DischargeMonth','BirthWeight_Grams',\n",
    "'SGA', \n",
    "# Postnatal Characteristics       \n",
    "'Apgar1Minute', 'Apgar5Minute',\n",
    "'Cord_pH_Venous_Date', 'Cord_pH_Venous', 'Cord_pH_Arterial_Date',\n",
    "'Cord_pH_Arterial', 'MaxHeartRate', 'MinHeartRate', 'AvgHeartRate',\n",
    "'AvgPulseOx', 'Desaturations', 'MaxTemperature', 'MinTemperature',\n",
    "'MinBloodGlucose', 'MaxBloodGlucose', 'MinSerumBilirubin',\n",
    "'MaxSerumBilirubin', 'MaxTranscutaneousBilirubin',\n",
    "'MinTranscutaneousBilirubin', 'Phototherapy', 'FailedHearing',\n",
    "'CarSeatTestFailures', 'FeedingType', 'PercentWeightLoss'"
   ]
  },
  {
   "cell_type": "code",
   "execution_count": null,
   "metadata": {},
   "outputs": [],
   "source": [
    "'ChildLengthOfStayHours', 'DischargeMonth','BirthWeight_Grams',\n",
    "'SGA', \n",
    "'Apgar1Minute', 'Apgar5Minute',\n",
    "'Cord_pH_Venous_Date', 'Cord_pH_Venous', 'Cord_pH_Arterial_Date',\n",
    "'Cord_pH_Arterial', 'MaxHeartRate', 'MinHeartRate', 'AvgHeartRate',\n",
    "'AvgPulseOx', 'Desaturations', 'MaxTemperature', 'MinTemperature',\n",
    "'MinBloodGlucose', 'MaxBloodGlucose', 'MinSerumBilirubin',\n",
    "'MaxSerumBilirubin', 'MaxTranscutaneousBilirubin',\n",
    "'MinTranscutaneousBilirubin', 'Phototherapy', 'FailedHearing',\n",
    "'CarSeatTestFailures', 'FeedingType', 'PercentWeightLoss'"
   ]
  }
 ],
 "metadata": {
  "kernelspec": {
   "display_name": "pc4",
   "language": "python",
   "name": "python3"
  },
  "language_info": {
   "name": "python",
   "version": "3.10.15"
  }
 },
 "nbformat": 4,
 "nbformat_minor": 2
}
