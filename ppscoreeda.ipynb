{
 "cells": [
  {
   "cell_type": "code",
   "execution_count": 36,
   "metadata": {},
   "outputs": [],
   "source": [
    "import pandas as pd\n",
    "import numpy as np\n",
    "import warnings\n",
    "warnings.filterwarnings(\"ignore\")\n",
    "# Dosya yolu\n",
    "file_path = r\"C:\\Users\\AKBASLI\\OneDrive - Cleveland Clinic\\Desktop\\NEORAS\\NEORAS_NICU_FinalDataset_20240619.txt\"\n",
    "\n",
    "# Veriyi pandas ile okuma\n",
    "data = pd.read_csv(file_path, delimiter=\"\\t\", header=0)"
   ]
  },
  {
   "cell_type": "code",
   "execution_count": 3,
   "metadata": {},
   "outputs": [
    {
     "data": {
      "text/plain": [
       "N    4101\n",
       "Y      32\n",
       "Name: ChildReadmissionFirstMonth, dtype: int64"
      ]
     },
     "execution_count": 3,
     "metadata": {},
     "output_type": "execute_result"
    }
   ],
   "source": [
    "data.ChildReadmissionFirstMonth.value_counts()"
   ]
  },
  {
   "cell_type": "code",
   "execution_count": 4,
   "metadata": {},
   "outputs": [
    {
     "data": {
      "text/plain": [
       "0    2037\n",
       "1     830\n",
       "Name: target, dtype: int64"
      ]
     },
     "execution_count": 4,
     "metadata": {},
     "output_type": "execute_result"
    }
   ],
   "source": [
    "data = data[data['Spontaneous abortion'] != 'Y']\n",
    "# Create the target feature\n",
    "data['target'] = (\n",
    "                  (data.ChildOfficeVisitsFirstMonth > 3) | \n",
    "                  (data.ChildER_VisitFirstMonth == 'Y') | \n",
    "                  (data.ChildReadmissionFirstMonth == 'Y')).astype(int)\n",
    "\n",
    "data = data[data.ChildLengthOfStayHours <= (24*7*2)]\n",
    "# Drop the specified features\n",
    "features_to_drop = ['ChildOfficeVisitsFirstMonth', 'ChildER_VisitFirstMonth', 'ChildReadmissionFirstMonth']\n",
    "data.drop(columns=features_to_drop, inplace=True)\n",
    "\n",
    "# Display the first few rows of the updated dataframe\n",
    "data.target.value_counts()"
   ]
  },
  {
   "cell_type": "code",
   "execution_count": 5,
   "metadata": {},
   "outputs": [],
   "source": [
    "data['MaternalRace'] = data['MaternalRace'].apply(lambda x: x if x in ['Caucasian', 'Black race'] else 'Other')"
   ]
  },
  {
   "cell_type": "code",
   "execution_count": 6,
   "metadata": {},
   "outputs": [],
   "source": [
    "data.LatestMaritalStatus.fillna('Currently Married', inplace=True)\n",
    "data['LatestMaritalStatus'] = data['LatestMaritalStatus'].apply(lambda x: 'Motherwithsomebody' if x in ['Currently Married', 'domestic partner', 'Other - Marital Status'] else 'Onlymother')"
   ]
  },
  {
   "cell_type": "code",
   "execution_count": 7,
   "metadata": {},
   "outputs": [],
   "source": [
    "data['Parity'].fillna(0, inplace=True)\n",
    "data['Parity_Status'] = data['Parity'].apply(\n",
    "    lambda x: 'nullipar' if x == 0 else\n",
    "              'primipar' if x == 1 else\n",
    "              'grandmultipar' if x >= 5 else\n",
    "              'multipar'\n",
    ")"
   ]
  },
  {
   "cell_type": "code",
   "execution_count": 8,
   "metadata": {},
   "outputs": [],
   "source": [
    "data['Gravida'].replace(0, 1, inplace=True)\n",
    "data['Gravida_Status'] = data['Gravida'].apply(lambda x: 'primigravid' if x == 1 else 'multigravid')"
   ]
  },
  {
   "cell_type": "code",
   "execution_count": 9,
   "metadata": {},
   "outputs": [],
   "source": [
    "data['GestWeek'] = data['GestAge_Days'] / 7\n",
    "data.drop(columns=['GestAge_Days'], inplace=True)\n",
    "def categorize_gestational_age(weeks):\n",
    "    if weeks < 28:\n",
    "        return 'ExtremelyPreterm'\n",
    "    elif 28 <= weeks < 32:\n",
    "        return 'VeryPreterm'\n",
    "    elif 32 <= weeks < 37:\n",
    "        return 'ModeratelyPreterm'\n",
    "    elif 37 <= weeks < 39:\n",
    "        return 'EarlyTerm'\n",
    "    elif 39 <= weeks < 41:\n",
    "        return 'FullTerm'\n",
    "    # elif 41 <= weeks < 42:\n",
    "    #     return 'Late Term'\n",
    "    else:\n",
    "        return 'Postterm'\n",
    "\n",
    "# Apply the function to create a new column\n",
    "data['Gestational_Category'] = data['GestWeek'].apply(categorize_gestational_age)"
   ]
  },
  {
   "cell_type": "code",
   "execution_count": 10,
   "metadata": {},
   "outputs": [],
   "source": [
    "data['DeliveryDate'] = pd.to_datetime(data['DeliveryDate'])\n",
    "data['deliverymonth'] = data['DeliveryDate'].dt.month\n",
    "\n",
    "def get_season(month):\n",
    "    if month in [12, 1, 2]:\n",
    "        return 'Winter'\n",
    "    elif month in [3, 4, 5]:\n",
    "        return 'Spring'\n",
    "    elif month in [6, 7, 8]:\n",
    "        return 'Summer'\n",
    "    else:\n",
    "        return 'Fall'\n",
    "\n",
    "data['deliveryseason'] = data['deliverymonth'].apply(get_season)\n",
    "data['dischargeseason'] = data['DischargeMonth'].apply(get_season)\n",
    "data.drop(columns=['DeliveryDate'], inplace=True)\n"
   ]
  },
  {
   "cell_type": "code",
   "execution_count": 11,
   "metadata": {},
   "outputs": [],
   "source": [
    "data['DeliveryType'] = data['DeliveryType'].apply(lambda x: 'Vaginal' if x in ['Vaginal', 'VBAC', 'Vacuum-assisted', 'Vacuum', np.nan] else 'CS')"
   ]
  },
  {
   "cell_type": "code",
   "execution_count": 12,
   "metadata": {},
   "outputs": [],
   "source": [
    "data['BirthWeight_Category'] = data['BirthWeight_Grams'].apply(\n",
    "    lambda x: 'ELBW' if x < 1000 else # Extremely Low Birth Weight\n",
    "              'VLBW' if x < 1500 else # Very Low Birth Weight\n",
    "              'LBW' if x < 2500 else  # Low Birth Weight\n",
    "              'NBW' if x < 4000 else  # Normal Birth Weight\n",
    "              'HBW'                   # High Birth Weight\n",
    ")"
   ]
  },
  {
   "cell_type": "code",
   "execution_count": 13,
   "metadata": {},
   "outputs": [
    {
     "data": {
      "text/plain": [
       "Series([], Name: target, dtype: int64)"
      ]
     },
     "execution_count": 13,
     "metadata": {},
     "output_type": "execute_result"
    }
   ],
   "source": [
    "data[data[i]>(24*14)].target.value_counts() "
   ]
  },
  {
   "cell_type": "code",
   "execution_count": 14,
   "metadata": {},
   "outputs": [
    {
     "data": {
      "text/plain": [
       "<matplotlib.legend.Legend at 0x278232c8a50>"
      ]
     },
     "execution_count": 14,
     "metadata": {},
     "output_type": "execute_result"
    },
    {
     "data": {
      "image/png": "[encoded data removed]",
      "text/plain": [
       "<Figure size 640x480 with 1 Axes>"
      ]
     },
     "metadata": {},
     "output_type": "display_data"
    }
   ],
   "source": [
    "import seaborn as sns\n",
    "import matplotlib.pyplot as plt\n",
    "i = 'BirthWeight_Grams'\n",
    "sns.histplot(data[(data.target==0)][i], color='blue', alpha=0.5, label='target=0')\n",
    "#sns.histplot(data[(data.target==0)&(data[i]<672)][i], color='blue', alpha=0.5, label='target=0')\n",
    "sns.histplot(data[data.target==1][i], color='red', alpha=0.5, label='target=1')\n",
    "plt.legend()"
   ]
  },
  {
   "cell_type": "code",
   "execution_count": 15,
   "metadata": {},
   "outputs": [],
   "source": [
    "data['AnynonGBSInfection'] = data[[\n",
    "                                    'HepB_PositiveDuringPregnancy', 'HCV_PositiveDuringPregnancy', \n",
    "                                    'HIV_PositiveDuringPregnancy', 'SyphilisPositiveDuringPregnancy', \n",
    "                                 ]].apply(lambda row: 'Y' if 'Y' in row.values else 'N', axis=1)\n",
    "\n",
    "data.drop(columns=['HepB_PositiveDuringPregnancy', 'HCV_PositiveDuringPregnancy', 'HIV_PositiveDuringPregnancy', 'SyphilisPositiveDuringPregnancy'], inplace=True)"
   ]
  },
  {
   "cell_type": "code",
   "execution_count": 16,
   "metadata": {},
   "outputs": [],
   "source": [
    "data['AnyDrugAbusiveBehavior'] = data[[                   \n",
    "                                    'Suboxone_DuringPregnancy',\n",
    "                                    'Methadone_DuringPregnancy',\n",
    "                                    'PositiveDrugScreenDuringPregnancy',\n",
    "]].apply(lambda row: 'Y' if 'Y' in row.values else 'N', axis=1)\n",
    "data.drop(columns=[ 'Suboxone_DuringPregnancy', 'Methadone_DuringPregnancy', 'PositiveDrugScreenDuringPregnancy'], inplace=True)\n",
    "data.rename(columns={'Alcohol abuse':'Alcohol',\n",
    "                     'Smoking during pregnancy':'Smoking',\n",
    "                     'SSRI_DuringPregnancy':'SSRI'}, inplace=True)"
   ]
  },
  {
   "cell_type": "code",
   "execution_count": 17,
   "metadata": {},
   "outputs": [],
   "source": [
    "data['AnyPreNatalComp'] = data[[\n",
    "                           'Antepartum Haemorrhage','Eclampsia','IUGR',\n",
    "                           'Maternal chronic hypertension','Maternal Diabetes',\n",
    "                           'Maternal pregnancy-induced hypertension','Oligohydramnios',\n",
    "                           'Placenta previa','Polyhydramnios','Pre-eclampsia',\n",
    "                           'Preterm premature rupture of membranes',\n",
    "                         ]].apply(lambda row: 'Y' if any(row == 'Y') else 'N', axis=1)\n"
   ]
  },
  {
   "cell_type": "code",
   "execution_count": 18,
   "metadata": {},
   "outputs": [],
   "source": [
    "# Fill missing Cord_pH_Venous with Cord_pH_Arterial values\n",
    "data['Cord_pH_Venous'].fillna(data['Cord_pH_Arterial'], inplace=True)\n",
    "\n",
    "# Fill missing Cord_pH_Arterial with Cord_pH_Venous values\n",
    "data['Cord_pH_Arterial'].fillna(data['Cord_pH_Venous'], inplace=True)"
   ]
  },
  {
   "cell_type": "code",
   "execution_count": 19,
   "metadata": {},
   "outputs": [],
   "source": [
    "# Convert temperatures greater than 42 from Fahrenheit to Celsius\n",
    "data['MaxTemperature'] = data['MaxTemperature'].apply(lambda x: (x - 32) * 5.0/9.0 if x > 42 else x)\n",
    "data['MinTemperature'] = data['MinTemperature'].apply(lambda x: (x - 32) * 5.0/9.0 if x > 42 else x)"
   ]
  },
  {
   "cell_type": "code",
   "execution_count": 20,
   "metadata": {},
   "outputs": [],
   "source": [
    "data['DifferGlc'] = data['MaxBloodGlucose'] - data['MinBloodGlucose']\n",
    "data.loc[data[data.DifferGlc == 0].index, 'MinBloodGlucose'] = np.nan\n",
    "data.loc[data[data.MinBloodGlucose > 90].index, 'MinBloodGlucose'] = np.nan\n",
    "data.drop(columns=['DifferGlc'], inplace=True)"
   ]
  },
  {
   "cell_type": "code",
   "execution_count": 21,
   "metadata": {},
   "outputs": [],
   "source": [
    "data['Cord_pH_Venous'].fillna(data['Cord_pH_Arterial'], inplace=True)\n",
    "data.loc[data[data.MaxTranscutaneousBilirubin > 14].index, 'MaxTranscutaneousBilirubin'] = np.nan\n",
    "\n",
    "data['MinSerumBilirubin'].fillna(data['MinTranscutaneousBilirubin'], inplace=True)\n",
    "data['MaxSerumBilirubin'].fillna(data['MaxTranscutaneousBilirubin'], inplace=True)\n"
   ]
  },
  {
   "cell_type": "code",
   "execution_count": null,
   "metadata": {},
   "outputs": [
    {
     "data": {
      "text/plain": [
       "('ChildBloodCultureCount',)"
      ]
     },
     "execution_count": 22,
     "metadata": {},
     "output_type": "execute_result"
    }
   ],
   "source": [
    "\n",
    "\n"
   ]
  },
  {
   "cell_type": "code",
   "execution_count": 28,
   "metadata": {},
   "outputs": [
    {
     "data": {
      "text/plain": [
       "array([ 0., nan,  1.,  2.,  3.])"
      ]
     },
     "execution_count": 28,
     "metadata": {},
     "output_type": "execute_result"
    }
   ],
   "source": [
    "data.CarSeatTestFailures.unique()"
   ]
  },
  {
   "cell_type": "code",
   "execution_count": 27,
   "metadata": {},
   "outputs": [
    {
     "name": "stdout",
     "output_type": "stream",
     "text": [
      "Missing data rate:  0.0\n",
      "Target=0\n",
      "count    2037.000000\n",
      "mean        0.809033\n",
      "std         0.494922\n",
      "min         0.000000\n",
      "25%         1.000000\n",
      "50%         1.000000\n",
      "75%         1.000000\n",
      "max         4.000000\n",
      "Name: ChildBloodCultureCount, dtype: float64\n",
      "Target=1\n",
      "count    830.000000\n",
      "mean       0.804819\n",
      "std        0.463870\n",
      "min        0.000000\n",
      "25%        1.000000\n",
      "50%        1.000000\n",
      "75%        1.000000\n",
      "max        3.000000\n",
      "Name: ChildBloodCultureCount, dtype: float64\n"
     ]
    },
    {
     "data": {
      "text/plain": [
       "<matplotlib.legend.Legend at 0x2783e4eea50>"
      ]
     },
     "execution_count": 27,
     "metadata": {},
     "output_type": "execute_result"
    },
    {
     "data": {
      "image/png": "[encoded data removed]",
      "text/plain": [
       "<Figure size 640x480 with 1 Axes>"
      ]
     },
     "metadata": {},
     "output_type": "display_data"
    }
   ],
   "source": [
    "i = 'ChildBloodCultureCount' # 'MinSodium', 'MaxSodium', 'MinHemoglobin', 'NoUrineOutputShift'\n",
    "print(\"Missing data rate: \", data[i].isnull().mean())\n",
    "print('Target=0')\n",
    "print(data[(data.target==0)][i].describe().T)\n",
    "print('Target=1')\n",
    "print(data[(data.target==1)][i].describe().T)\n",
    "sns.histplot(data[(data.target==0)][i], color='blue', alpha=0.5, label='target=0')\n",
    "#sns.histplot(data[(data.target==0)&(data[i]<672)][i], color='blue', alpha=0.5, label='target=0')\n",
    "sns.histplot(data[data.target==1][i], color='red', alpha=0.5, label='target=1')\n",
    "plt.legend()"
   ]
  },
  {
   "cell_type": "code",
   "execution_count": 24,
   "metadata": {},
   "outputs": [
    {
     "data": {
      "text/plain": [
       "('ChildBloodCultureCount',)"
      ]
     },
     "execution_count": 24,
     "metadata": {},
     "output_type": "execute_result"
    }
   ],
   "source": [
    "'FailedHearing',\n",
    "'CarSeatTestFailures', # Ask Alex\n",
    "'FeedingType',\n",
    "'PercentWeightLoss',\n",
    "'ChildNumberOfAntibioticDays',\n",
    "'ChildBloodCultureCount',\n",
    "\n"
   ]
  },
  {
   "cell_type": "code",
   "execution_count": 25,
   "metadata": {},
   "outputs": [
    {
     "name": "stdout",
     "output_type": "stream",
     "text": [
      "General\n",
      "Data missing rate: 0.0\n"
     ]
    },
    {
     "data": {
      "text/plain": [
       "1     57.760725\n",
       "2     17.788629\n",
       "3     10.847576\n",
       "7      2.546216\n",
       "0      2.476456\n",
       "8      2.441577\n",
       "4      1.883502\n",
       "6      1.569585\n",
       "5      1.569585\n",
       "9      0.523195\n",
       "10     0.174398\n",
       "11     0.139519\n",
       "12     0.139519\n",
       "13     0.069759\n",
       "14     0.069759\n",
       "Name: ChildNumberOfAntibioticDays, dtype: float64"
      ]
     },
     "metadata": {},
     "output_type": "display_data"
    },
    {
     "name": "stdout",
     "output_type": "stream",
     "text": [
      "Target 1\n"
     ]
    },
    {
     "data": {
      "text/plain": [
       "1     58.433735\n",
       "2     18.554217\n",
       "3     10.481928\n",
       "7      2.409639\n",
       "0      2.048193\n",
       "4      1.927711\n",
       "6      1.807229\n",
       "5      1.686747\n",
       "8      1.325301\n",
       "9      0.602410\n",
       "11     0.361446\n",
       "13     0.240964\n",
       "12     0.120482\n",
       "Name: ChildNumberOfAntibioticDays, dtype: float64"
      ]
     },
     "metadata": {},
     "output_type": "display_data"
    },
    {
     "name": "stdout",
     "output_type": "stream",
     "text": [
      "Target 0\n"
     ]
    },
    {
     "data": {
      "text/plain": [
       "1     57.486500\n",
       "2     17.476681\n",
       "3     10.996564\n",
       "8      2.896416\n",
       "0      2.650957\n",
       "7      2.601865\n",
       "4      1.865488\n",
       "5      1.521846\n",
       "6      1.472754\n",
       "9      0.490918\n",
       "10     0.245459\n",
       "12     0.147275\n",
       "14     0.098184\n",
       "11     0.049092\n",
       "Name: ChildNumberOfAntibioticDays, dtype: float64"
      ]
     },
     "metadata": {},
     "output_type": "display_data"
    }
   ],
   "source": [
    "\n",
    "i = 'ChildNumberOfAntibioticDays' # 'HIE_Severity', 'HighestIVH_Grade',\n",
    "\n",
    "print('General')\n",
    "print('Data missing rate:', data[i].isnull().mean().round(3) * 100)\n",
    "display(data[i].value_counts(normalize=True) * 100)\n",
    "print('Target 1')\n",
    "display(data[data.target==1][i].value_counts(normalize=True) * 100)\n",
    "print('Target 0')\n",
    "display(data[data.target==0][i].value_counts(normalize=True) * 100)\n",
    "\n",
    "#data[i].unique()"
   ]
  },
  {
   "cell_type": "code",
   "execution_count": 142,
   "metadata": {},
   "outputs": [],
   "source": [
    "# Fill missing Cord_pH_Venous with Cord_pH_Arterial values\n",
    "data['Cord_pH_Venous'].fillna(data['Cord_pH_Arterial'], inplace=True)\n",
    "\n",
    "# Fill missing Cord_pH_Arterial with Cord_pH_Venous values\n",
    "data['Cord_pH_Arterial'].fillna(data['Cord_pH_Venous'], inplace=True)"
   ]
  },
  {
   "cell_type": "code",
   "execution_count": 169,
   "metadata": {},
   "outputs": [
    {
     "data": {
      "text/plain": [
       "0.01848622253226369"
      ]
     },
     "execution_count": 169,
     "metadata": {},
     "output_type": "execute_result"
    }
   ],
   "source": [
    "data['MaxHeartRate'].isna().sum() / len(data)"
   ]
  },
  {
   "cell_type": "code",
   "execution_count": null,
   "metadata": {},
   "outputs": [
    {
     "data": {
      "text/plain": [
       "('target',)"
      ]
     },
     "execution_count": 268,
     "metadata": {},
     "output_type": "execute_result"
    }
   ],
   "source": [
    "# for cols in data.columns:\n",
    "#     print(f\"'{cols}',\")\n",
    "'MaternalPatientID',\n",
    "'MaternalMedicalRecordNumber',\n",
    "'ChildPatientID',\n",
    "'ChildMedicalRecordNumber',\n",
    "'ChildEncounterID',\n",
    "'MaternalLanguage',\n",
    "'MyChartAccess',\n",
    "'YearsOfEducation'\n",
    "'GestationalAge_Weeks',\n",
    "'ChildDeathDate'\n",
    "'MaternalDeathDate'\n",
    "'ChildRace', 'ChildEthnicity',\n",
    "'ROM_Time', # This feature's mean of values is 44507. If it is in seconds it is too much. It is like 30 days. Can you describe this feauture's time unit?\n",
    "'ER_VisitDuringPregnancy',\n",
    "'Vaginal delivery',\n",
    "'Pregnancy Complications',\n",
    "'HIE_Severity', 'HighestIVH_Grade', # Missed values drop it\n",
    "'Cord_pH_Venous_Date', 'Cord_pH_Arterial_Date',\n",
    "# Drop columns are upside\n",
    "\n",
    "'MaternalAgeAtDelivery',\n",
    "'MaternalRace',\n",
    "'LatestMaritalStatus',\n",
    "\n",
    "'Gravida', 'Gravida_Status',\n",
    "'Parity', 'Parity_Status',\n",
    "\n",
    "'GestWeek', 'Gestational_Category',\n",
    "\n",
    "#'DeliveryDate',\n",
    "'deliverymonth', 'deliveryseason',\n",
    "'ChildGender',\n",
    "\n",
    "\n",
    "'ChildLengthOfStayHours',\n",
    "'DischargeMonth', 'dischargeseason',\n",
    "'DeliveryType',\n",
    "\n",
    "#'Spontaneous abortion',\n",
    "'Umbilical cord prolapse',\n",
    "\n",
    "'AppointmentMadeDuringAdmission',\n",
    "'AnyPreNatalComp'\n",
    "\n",
    "'MultipleGestation', # Ask Ani\n",
    "'BirthWeight_Grams', 'BirthWeight_Category', # Ask Ani\n",
    "'SGA',\n",
    "\n",
    "'Mother_BMI_AtDelivery', 'PrePregnancyWeight_KG',\n",
    "\n",
    "# 'SSRI_DuringPregnancy',\n",
    "# 'Suboxone_DuringPregnancy',\n",
    "# 'Methadone_DuringPregnancy',\n",
    "# 'PositiveDrugScreenDuringPregnancy',\n",
    "# 'Alcohol abuse',\n",
    "# 'Smoking during pregnancy',\n",
    "'Alcohol', 'Smoking', 'SSRI', 'AnyDrugAbusiveBehavior'\n",
    "\n",
    "# 'HepB_PositiveDuringPregnancy',\n",
    "# 'HCV_PositiveDuringPregnancy',\n",
    "# 'HIV_PositiveDuringPregnancy',\n",
    "# 'SyphilisPositiveDuringPregnancy',\n",
    "'AnynonGBSInfection'\n",
    "'GBS_PositiveDuringPregnancy',\n",
    "\n",
    "# Prenatal complications\n",
    "'Antepartum Haemorrhage',\n",
    "'Eclampsia',\n",
    "'IUGR', # Ask Ani\n",
    "'Maternal chronic hypertension',\n",
    "'Maternal Diabetes',\n",
    "'Maternal pregnancy-induced hypertension',\n",
    "'Oligohydramnios',\n",
    "'Placenta previa',\n",
    "'Polyhydramnios',\n",
    "'Pre-eclampsia',\n",
    "'Preterm premature rupture of membranes', # This rate is meaningful. \n",
    "\n",
    "\n",
    "'Apgar1Minute','Apgar5Minute',\n",
    "'Cord_pH_Venous', 'Cord_pH_Arterial',\n",
    "'MaxHeartRate', 'MinHeartRate', 'AvgHeartRate', # Fill with median but first clean the data\n",
    "'AvgPulseOx', # Fill with median but first clean the data\n",
    "'Desaturations', # Fill with median but first clean the data # Most valuable feature for PPG\n",
    "'Desaturations_5DaysBeforeDischarge', 'Bradycardia_5DaysBeforeDischarge', # Should be dropped\n",
    "'SurfactantDoses',  # Inconsistent data\n",
    "'MaxTemperature', 'MinTemperature', # If value bigger than 42 change to F to C // 37.50 israndomly filling????\n",
    "'MaxFiO2', # Should be dropped\n",
    "'MinBloodGlucose', 'MaxBloodGlucose', # 143 pt Max Glucose level same with Min Glucose level I think is we should use Min Glucose level\n",
    "'GlucoseGelGiven', # More valueable than Glucose levels\n",
    "'MinSerumBilirubin', 'MaxSerumBilirubin', 'MaxTranscutaneousBilirubin', 'MinTranscutaneousBilirubin',\n",
    "'Phototherapy', # More valueable than Bilirubin levels\n",
    "'MinSodium', 'MaxSodium',\n",
    "'MinHemoglobin',\n",
    "'NoUrineOutputShift', # should be dropped\n",
    "\n",
    "'FailedHearing',\n",
    "'CarSeatTestFailures', # Ask Alex This feature has 4 uniqe values 0,1,2,3. What is the meaning of this values?\n",
    "'FeedingType',\n",
    "'PercentWeightLoss', # Ask Alex How calculated this feature some of the values are around the 90 it is impossible\n",
    "'ChildNumberOfAntibioticDays',\n",
    "'ChildBloodCultureCount',\n",
    "'target',\n"
   ]
  },
  {
   "cell_type": "code",
   "execution_count": 8,
   "metadata": {},
   "outputs": [
    {
     "data": {
      "text/plain": [
       "0    2427\n",
       "1    1706\n",
       "Name: target, dtype: int64"
      ]
     },
     "execution_count": 8,
     "metadata": {},
     "output_type": "execute_result"
    }
   ],
   "source": [
    "data.target.value_counts()"
   ]
  },
  {
   "cell_type": "code",
   "execution_count": null,
   "metadata": {},
   "outputs": [
    {
     "data": {
      "text/plain": [
       "<Axes: ylabel='ppscore'>"
      ]
     },
     "execution_count": 11,
     "metadata": {},
     "output_type": "execute_result"
    },
    {
     "data": {
      "image/png": "[encoded data removed]",
      "text/plain": [
       "<Figure size 640x480 with 1 Axes>"
      ]
     },
     "metadata": {},
     "output_type": "display_data"
    }
   ],
   "source": [
    "import ppscore as pps\n",
    "import seaborn as sns\n",
    "\n",
    "predictors_df = pps.predictors(data, \"target\")\n"
   ]
  },
  {
   "cell_type": "code",
   "execution_count": 15,
   "metadata": {},
   "outputs": [
    {
     "data": {
      "text/html": [
       "<div>\n",
       "<style scoped>\n",
       "    .dataframe tbody tr th:only-of-type {\n",
       "        vertical-align: middle;\n",
       "    }\n",
       "\n",
       "    .dataframe tbody tr th {\n",
       "        vertical-align: top;\n",
       "    }\n",
       "\n",
       "    .dataframe thead th {\n",
       "        text-align: right;\n",
       "    }\n",
       "</style>\n",
       "<table border=\"1\" class=\"dataframe\">\n",
       "  <thead>\n",
       "    <tr style=\"text-align: right;\">\n",
       "      <th></th>\n",
       "      <th>x</th>\n",
       "      <th>y</th>\n",
       "      <th>ppscore</th>\n",
       "      <th>case</th>\n",
       "      <th>is_valid_score</th>\n",
       "      <th>metric</th>\n",
       "      <th>baseline_score</th>\n",
       "      <th>model_score</th>\n",
       "      <th>model</th>\n",
       "    </tr>\n",
       "  </thead>\n",
       "  <tbody>\n",
       "    <tr>\n",
       "      <th>0</th>\n",
       "      <td>ChildLengthOfStayHours</td>\n",
       "      <td>target</td>\n",
       "      <td>0.071465</td>\n",
       "      <td>regression</td>\n",
       "      <td>True</td>\n",
       "      <td>mean absolute error</td>\n",
       "      <td>0.412775</td>\n",
       "      <td>0.383276</td>\n",
       "      <td>DecisionTreeRegressor()</td>\n",
       "    </tr>\n",
       "    <tr>\n",
       "      <th>1</th>\n",
       "      <td>PercentWeightLoss</td>\n",
       "      <td>target</td>\n",
       "      <td>0.043674</td>\n",
       "      <td>regression</td>\n",
       "      <td>True</td>\n",
       "      <td>mean absolute error</td>\n",
       "      <td>0.413028</td>\n",
       "      <td>0.394989</td>\n",
       "      <td>DecisionTreeRegressor()</td>\n",
       "    </tr>\n",
       "    <tr>\n",
       "      <th>2</th>\n",
       "      <td>Cord_pH_Arterial_Date</td>\n",
       "      <td>target</td>\n",
       "      <td>0.030566</td>\n",
       "      <td>regression</td>\n",
       "      <td>True</td>\n",
       "      <td>mean absolute error</td>\n",
       "      <td>0.410909</td>\n",
       "      <td>0.398349</td>\n",
       "      <td>DecisionTreeRegressor()</td>\n",
       "    </tr>\n",
       "    <tr>\n",
       "      <th>3</th>\n",
       "      <td>MaternalPatientID</td>\n",
       "      <td>target</td>\n",
       "      <td>0.029022</td>\n",
       "      <td>regression</td>\n",
       "      <td>True</td>\n",
       "      <td>mean absolute error</td>\n",
       "      <td>0.412775</td>\n",
       "      <td>0.400796</td>\n",
       "      <td>DecisionTreeRegressor()</td>\n",
       "    </tr>\n",
       "    <tr>\n",
       "      <th>4</th>\n",
       "      <td>Cord_pH_Venous_Date</td>\n",
       "      <td>target</td>\n",
       "      <td>0.025571</td>\n",
       "      <td>regression</td>\n",
       "      <td>True</td>\n",
       "      <td>mean absolute error</td>\n",
       "      <td>0.446012</td>\n",
       "      <td>0.434607</td>\n",
       "      <td>DecisionTreeRegressor()</td>\n",
       "    </tr>\n",
       "    <tr>\n",
       "      <th>...</th>\n",
       "      <td>...</td>\n",
       "      <td>...</td>\n",
       "      <td>...</td>\n",
       "      <td>...</td>\n",
       "      <td>...</td>\n",
       "      <td>...</td>\n",
       "      <td>...</td>\n",
       "      <td>...</td>\n",
       "      <td>...</td>\n",
       "    </tr>\n",
       "    <tr>\n",
       "      <th>90</th>\n",
       "      <td>FailedHearing</td>\n",
       "      <td>target</td>\n",
       "      <td>0.000000</td>\n",
       "      <td>regression</td>\n",
       "      <td>True</td>\n",
       "      <td>mean absolute error</td>\n",
       "      <td>0.412500</td>\n",
       "      <td>0.484857</td>\n",
       "      <td>DecisionTreeRegressor()</td>\n",
       "    </tr>\n",
       "    <tr>\n",
       "      <th>91</th>\n",
       "      <td>CarSeatTestFailures</td>\n",
       "      <td>target</td>\n",
       "      <td>0.000000</td>\n",
       "      <td>regression</td>\n",
       "      <td>True</td>\n",
       "      <td>mean absolute error</td>\n",
       "      <td>0.328917</td>\n",
       "      <td>0.441893</td>\n",
       "      <td>DecisionTreeRegressor()</td>\n",
       "    </tr>\n",
       "    <tr>\n",
       "      <th>92</th>\n",
       "      <td>ChildNumberOfAntibioticDays</td>\n",
       "      <td>target</td>\n",
       "      <td>0.000000</td>\n",
       "      <td>regression</td>\n",
       "      <td>True</td>\n",
       "      <td>mean absolute error</td>\n",
       "      <td>0.412775</td>\n",
       "      <td>0.468292</td>\n",
       "      <td>DecisionTreeRegressor()</td>\n",
       "    </tr>\n",
       "    <tr>\n",
       "      <th>93</th>\n",
       "      <td>ChildBloodCultureCount</td>\n",
       "      <td>target</td>\n",
       "      <td>0.000000</td>\n",
       "      <td>regression</td>\n",
       "      <td>True</td>\n",
       "      <td>mean absolute error</td>\n",
       "      <td>0.412775</td>\n",
       "      <td>0.471589</td>\n",
       "      <td>DecisionTreeRegressor()</td>\n",
       "    </tr>\n",
       "    <tr>\n",
       "      <th>94</th>\n",
       "      <td>HighestIVH_Grade</td>\n",
       "      <td>target</td>\n",
       "      <td>0.000000</td>\n",
       "      <td>regression</td>\n",
       "      <td>True</td>\n",
       "      <td>mean absolute error</td>\n",
       "      <td>0.137500</td>\n",
       "      <td>0.240532</td>\n",
       "      <td>DecisionTreeRegressor()</td>\n",
       "    </tr>\n",
       "  </tbody>\n",
       "</table>\n",
       "<p>95 rows × 9 columns</p>\n",
       "</div>"
      ],
      "text/plain": [
       "                              x       y   ppscore        case  is_valid_score  \\\n",
       "0        ChildLengthOfStayHours  target  0.071465  regression            True   \n",
       "1             PercentWeightLoss  target  0.043674  regression            True   \n",
       "2         Cord_pH_Arterial_Date  target  0.030566  regression            True   \n",
       "3             MaternalPatientID  target  0.029022  regression            True   \n",
       "4           Cord_pH_Venous_Date  target  0.025571  regression            True   \n",
       "..                          ...     ...       ...         ...             ...   \n",
       "90                FailedHearing  target  0.000000  regression            True   \n",
       "91          CarSeatTestFailures  target  0.000000  regression            True   \n",
       "92  ChildNumberOfAntibioticDays  target  0.000000  regression            True   \n",
       "93       ChildBloodCultureCount  target  0.000000  regression            True   \n",
       "94             HighestIVH_Grade  target  0.000000  regression            True   \n",
       "\n",
       "                 metric  baseline_score  model_score                    model  \n",
       "0   mean absolute error        0.412775     0.383276  DecisionTreeRegressor()  \n",
       "1   mean absolute error        0.413028     0.394989  DecisionTreeRegressor()  \n",
       "2   mean absolute error        0.410909     0.398349  DecisionTreeRegressor()  \n",
       "3   mean absolute error        0.412775     0.400796  DecisionTreeRegressor()  \n",
       "4   mean absolute error        0.446012     0.434607  DecisionTreeRegressor()  \n",
       "..                  ...             ...          ...                      ...  \n",
       "90  mean absolute error        0.412500     0.484857  DecisionTreeRegressor()  \n",
       "91  mean absolute error        0.328917     0.441893  DecisionTreeRegressor()  \n",
       "92  mean absolute error        0.412775     0.468292  DecisionTreeRegressor()  \n",
       "93  mean absolute error        0.412775     0.471589  DecisionTreeRegressor()  \n",
       "94  mean absolute error        0.137500     0.240532  DecisionTreeRegressor()  \n",
       "\n",
       "[95 rows x 9 columns]"
      ]
     },
     "execution_count": 15,
     "metadata": {},
     "output_type": "execute_result"
    }
   ],
   "source": [
    "predictors_df"
   ]
  },
  {
   "cell_type": "code",
   "execution_count": 17,
   "metadata": {},
   "outputs": [
    {
     "data": {
      "text/plain": [
       "<Axes: xlabel='x', ylabel='y'>"
      ]
     },
     "execution_count": 17,
     "metadata": {},
     "output_type": "execute_result"
    },
    {
     "data": {
      "image/png": "[encoded data removed]",
      "text/plain": [
       "<Figure size 640x480 with 2 Axes>"
      ]
     },
     "metadata": {},
     "output_type": "display_data"
    }
   ],
   "source": [
    "\n",
    "matrix_df = predictors_df[['x', 'y', 'ppscore']][predictors_df.ppscore>0.01].pivot(columns='x', index='y', values='ppscore')\n",
    "sns.heatmap(matrix_df, vmin=0, vmax=1, cmap=\"Blues\", linewidths=0.5, annot=True)"
   ]
  },
  {
   "cell_type": "code",
   "execution_count": 3,
   "metadata": {},
   "outputs": [
    {
     "name": "stdout",
     "output_type": "stream",
     "text": [
      "YearsOfEducation                   93.757561\n",
      "Parity                             22.913138\n",
      "ChildDeathDate                     99.903218\n",
      "MaternalDeathDate                  99.443504\n",
      "Mother_BMI_AtDelivery              19.791919\n",
      "PrePregnancyWeight_KG              28.647472\n",
      "HCV_PositiveDuringPregnancy        69.416888\n",
      "SyphilisPositiveDuringPregnancy    13.017179\n",
      "GBS_PositiveDuringPregnancy        56.786838\n",
      "HIE_Severity                       97.701428\n",
      "Cord_pH_Venous_Date                55.407694\n",
      "Cord_pH_Venous                     55.407694\n",
      "Cord_pH_Arterial_Date              26.808614\n",
      "Cord_pH_Arterial                   26.808614\n",
      "MaxFiO2                            34.309218\n",
      "MinSerumBilirubin                  25.332688\n",
      "MaxSerumBilirubin                  25.332688\n",
      "MinSodium                          26.252117\n",
      "MaxSodium                          26.252117\n",
      "MinHemoglobin                      10.500847\n",
      "NoUrineOutputShift                 98.427293\n",
      "CarSeatTestFailures                47.036051\n",
      "FeedingType                        55.698040\n",
      "HighestIVH_Grade                   98.064360\n",
      "dtype: float64\n"
     ]
    }
   ],
   "source": [
    "# Calculate the percentage of missing values for each feature\n",
    "missing_percentage = data.isnull().mean() * 100\n",
    "\n",
    "# Filter features with more than 10% missing values\n",
    "features_with_missing = missing_percentage[missing_percentage > 10]\n",
    "\n",
    "# Print the features and their missing percentages\n",
    "print(features_with_missing)"
   ]
  },
  {
   "cell_type": "code",
   "execution_count": null,
   "metadata": {},
   "outputs": [],
   "source": [
    "# Second Dataset (NICU Data)\n",
    "# Outcome Definition:\n",
    "# If the baby is readmitted to the NICU, or\n",
    "# Has more than 2 PCP (primary care provider) visits, or\n",
    "# Presents to the ED,\n",
    "# we will classify this as a “readmission” outcome. (in the first month after discharge )\n",
    "# First Dataset (NewBorn Nursery Data)\n",
    "# Exclusive Breastfeeding:\n",
    "# I will use the “FeedingType” field to distinguish babies receiving Human Milk exclusively from those with other feeding methods. (Some infants may get both human and Donor breastmilk. We should use the definition as \"Any Mother's own milk\" in the feeding type. If there is a question, we can ask Alex.\n",
    "# I’ll analyze how exclusive breastfeeding compares to other feeding types in terms of outcomes. I think the outcome should be \"Human milk\" vs \"others\". Please let me know what outcome variables are available.\n",
    "# Cord pH:\n",
    "# I’ll categorize babies based on whether their cord pH is ≤7 (or another reasonable threshold) and examine any differences in outcomes or feeding status among these groups. Because there are so few subjects (35), I think we can keep a hold on it and concentrate on the other two.\n",
    "# Timeline\n",
    "# I plan to complete these analyses within the next two weeks and aim to gather findings that could form the basis of an abstract. Okay. I will be out of the country starting today but can respond to emails. The responses could be delayed."
   ]
  },
  {
   "cell_type": "code",
   "execution_count": null,
   "metadata": {},
   "outputs": [],
   "source": [
    "# Here are my other questions regarding the data:\n",
    "\n",
    "# Repetitive Patients:\n",
    "# From what I understand, ChildMedicalRecordNumber is a unique identifier for each patient, and the dataset assumes no duplicate records for the same patient. However, when examining the ChildEncounterID, I noticed that some IDs appear 170-180 times. Could you clarify this? Not sure. We may consider removing those charts. Are the names/date of births also same?\n",
    "\n",
    "# Race and Ethnicity:\n",
    "# Would it be problematic to classify race as Caucasian, Black, and Other for the AI model? I plan to explain these demographic details separately for reporting purposes. Not a problem. Is there a possibility of having hispanic? How many hispanics are there?\n",
    "# LatestMaritalStatus:\n",
    "# I am considering grouping this feature into Married, Unmarried, and Other. Does this approach align with your preference? What does \"Other\" mean. If it includes \"unknown\", that would be \"Married\" and \"Unmarried\" and the rest as missing values.\n",
    "# YearsOfEducation:\n",
    "# I have converted string values into numerical form, but there is a significant amount of missing data for this feature. I am still evaluating whether to include it in the ML model. Yes, there are missing variables. If data availability is less than 10%, I think we can remove the variable.\n",
    "# Gravida and Parity Features:\n",
    "# For the missing values in these features, would it be reasonable to assume a value of 0 for the ML model? No. It should still be missing.\n",
    "# Delivery Type:\n",
    "# I plan to categorize this feature into Vaginal and C-Section. However, there seems to be a discrepancy between the DeliveryType feature, where the count for vaginal delivery is 22,817, and the VaginalDelivery feature, which shows a count of 17,295. Could you clarify this inconsistency? Not sure. we can discuss and you can show me.\n",
    "# AppointmentMadeDuringAdmission:\n",
    "# Could you explain the meaning of this feature? Does it indicate appointments scheduled prior to discharge? Yes. \n",
    "# Cord Blood Gas:\n",
    "# I noticed that cord blood gas data is available for only one-third of the patients. I understand that routine cord blood gas measurement may not be part of your practice. Could you clarify the criteria for ordering these tests? In our practice, we typically order them in cases of prolonged labor, suspected HIE, or when NRP is anticipated or performed. The criteria varies between different hospitals in the same system. Not consistent. One hospital does for almost all babies and the other does for very few. Cant help that! 🙂 \n",
    "# Hearing Tests:\n",
    "# In our practice, hearing tests are usually performed on the second or third day or during the first postnatal examination. Are hearing tests in your practice conducted immediately before discharge? In our practice, before discharge\n",
    "# PercentWeightLoss:\n",
    "# Does this feature represent data from the 24th hour or just prior to discharge? Prior to discharge."
   ]
  },
  {
   "cell_type": "code",
   "execution_count": 2,
   "metadata": {},
   "outputs": [
    {
     "data": {
      "text/html": [
       "<div>\n",
       "<style scoped>\n",
       "    .dataframe tbody tr th:only-of-type {\n",
       "        vertical-align: middle;\n",
       "    }\n",
       "\n",
       "    .dataframe tbody tr th {\n",
       "        vertical-align: top;\n",
       "    }\n",
       "\n",
       "    .dataframe thead th {\n",
       "        text-align: right;\n",
       "    }\n",
       "</style>\n",
       "<table border=\"1\" class=\"dataframe\">\n",
       "  <thead>\n",
       "    <tr style=\"text-align: right;\">\n",
       "      <th></th>\n",
       "      <th>MaternalPatientID</th>\n",
       "      <th>MaternalMedicalRecordNumber</th>\n",
       "      <th>ChildPatientID</th>\n",
       "      <th>ChildMedicalRecordNumber</th>\n",
       "      <th>ChildEncounterID</th>\n",
       "      <th>MaternalAgeAtDelivery</th>\n",
       "      <th>MaternalRace</th>\n",
       "      <th>MaternalLanguage</th>\n",
       "      <th>MyChartAccess</th>\n",
       "      <th>LatestMaritalStatus</th>\n",
       "      <th>...</th>\n",
       "      <th>MaxSodium</th>\n",
       "      <th>MinHemoglobin</th>\n",
       "      <th>NoUrineOutputShift</th>\n",
       "      <th>FailedHearing</th>\n",
       "      <th>CarSeatTestFailures</th>\n",
       "      <th>FeedingType</th>\n",
       "      <th>PercentWeightLoss</th>\n",
       "      <th>ChildNumberOfAntibioticDays</th>\n",
       "      <th>ChildBloodCultureCount</th>\n",
       "      <th>HighestIVH_Grade</th>\n",
       "    </tr>\n",
       "  </thead>\n",
       "  <tbody>\n",
       "    <tr>\n",
       "      <th>0</th>\n",
       "      <td>1305371312</td>\n",
       "      <td>45688038</td>\n",
       "      <td>44010055666</td>\n",
       "      <td>87656644</td>\n",
       "      <td>440501698459</td>\n",
       "      <td>34</td>\n",
       "      <td>Caucasian</td>\n",
       "      <td>English Language</td>\n",
       "      <td>Y</td>\n",
       "      <td>Currently Married</td>\n",
       "      <td>...</td>\n",
       "      <td>131.0</td>\n",
       "      <td>6.2</td>\n",
       "      <td>NaN</td>\n",
       "      <td>N</td>\n",
       "      <td>0.0</td>\n",
       "      <td>Human Milk</td>\n",
       "      <td>-4.0</td>\n",
       "      <td>1</td>\n",
       "      <td>1</td>\n",
       "      <td>NaN</td>\n",
       "    </tr>\n",
       "    <tr>\n",
       "      <th>1</th>\n",
       "      <td>1505532815</td>\n",
       "      <td>48870872</td>\n",
       "      <td>44010068969</td>\n",
       "      <td>87669963</td>\n",
       "      <td>440504054744</td>\n",
       "      <td>40</td>\n",
       "      <td>Caucasian</td>\n",
       "      <td>English Language</td>\n",
       "      <td>Y</td>\n",
       "      <td>Currently Married</td>\n",
       "      <td>...</td>\n",
       "      <td>NaN</td>\n",
       "      <td>NaN</td>\n",
       "      <td>NaN</td>\n",
       "      <td>N</td>\n",
       "      <td>NaN</td>\n",
       "      <td>NaN</td>\n",
       "      <td>-6.7</td>\n",
       "      <td>1</td>\n",
       "      <td>0</td>\n",
       "      <td>NaN</td>\n",
       "    </tr>\n",
       "    <tr>\n",
       "      <th>2</th>\n",
       "      <td>4407414710</td>\n",
       "      <td>78492406</td>\n",
       "      <td>44010436597</td>\n",
       "      <td>88007435</td>\n",
       "      <td>440522143899</td>\n",
       "      <td>34</td>\n",
       "      <td>Black race</td>\n",
       "      <td>English Language</td>\n",
       "      <td>Y</td>\n",
       "      <td>Currently Married</td>\n",
       "      <td>...</td>\n",
       "      <td>140.0</td>\n",
       "      <td>15.7</td>\n",
       "      <td>NaN</td>\n",
       "      <td>N</td>\n",
       "      <td>0.0</td>\n",
       "      <td>NaN</td>\n",
       "      <td>-2.9</td>\n",
       "      <td>1</td>\n",
       "      <td>1</td>\n",
       "      <td>NaN</td>\n",
       "    </tr>\n",
       "    <tr>\n",
       "      <th>3</th>\n",
       "      <td>1404830468</td>\n",
       "      <td>50478459</td>\n",
       "      <td>44010496774</td>\n",
       "      <td>88064170</td>\n",
       "      <td>440534232207</td>\n",
       "      <td>30</td>\n",
       "      <td>Black race</td>\n",
       "      <td>English Language</td>\n",
       "      <td>Y</td>\n",
       "      <td>Unmarried person</td>\n",
       "      <td>...</td>\n",
       "      <td>135.0</td>\n",
       "      <td>15.0</td>\n",
       "      <td>NaN</td>\n",
       "      <td>N</td>\n",
       "      <td>0.0</td>\n",
       "      <td>NaN</td>\n",
       "      <td>8.0</td>\n",
       "      <td>2</td>\n",
       "      <td>1</td>\n",
       "      <td>NaN</td>\n",
       "    </tr>\n",
       "    <tr>\n",
       "      <th>4</th>\n",
       "      <td>1406563734</td>\n",
       "      <td>79711888</td>\n",
       "      <td>44010497458</td>\n",
       "      <td>88064856</td>\n",
       "      <td>440534411559</td>\n",
       "      <td>27</td>\n",
       "      <td>Caucasian</td>\n",
       "      <td>English Language</td>\n",
       "      <td>Y</td>\n",
       "      <td>Unmarried person</td>\n",
       "      <td>...</td>\n",
       "      <td>145.0</td>\n",
       "      <td>10.5</td>\n",
       "      <td>NaN</td>\n",
       "      <td>N</td>\n",
       "      <td>0.0</td>\n",
       "      <td>NaN</td>\n",
       "      <td>150.8</td>\n",
       "      <td>8</td>\n",
       "      <td>1</td>\n",
       "      <td>NaN</td>\n",
       "    </tr>\n",
       "    <tr>\n",
       "      <th>...</th>\n",
       "      <td>...</td>\n",
       "      <td>...</td>\n",
       "      <td>...</td>\n",
       "      <td>...</td>\n",
       "      <td>...</td>\n",
       "      <td>...</td>\n",
       "      <td>...</td>\n",
       "      <td>...</td>\n",
       "      <td>...</td>\n",
       "      <td>...</td>\n",
       "      <td>...</td>\n",
       "      <td>...</td>\n",
       "      <td>...</td>\n",
       "      <td>...</td>\n",
       "      <td>...</td>\n",
       "      <td>...</td>\n",
       "      <td>...</td>\n",
       "      <td>...</td>\n",
       "      <td>...</td>\n",
       "      <td>...</td>\n",
       "      <td>...</td>\n",
       "    </tr>\n",
       "    <tr>\n",
       "      <th>4128</th>\n",
       "      <td>4408307041</td>\n",
       "      <td>80778864</td>\n",
       "      <td>4408487557</td>\n",
       "      <td>82710434</td>\n",
       "      <td>440325858050</td>\n",
       "      <td>33</td>\n",
       "      <td>Caucasian</td>\n",
       "      <td>English Language</td>\n",
       "      <td>Y</td>\n",
       "      <td>Currently Married</td>\n",
       "      <td>...</td>\n",
       "      <td>NaN</td>\n",
       "      <td>NaN</td>\n",
       "      <td>NaN</td>\n",
       "      <td>NaN</td>\n",
       "      <td>NaN</td>\n",
       "      <td>Human Milk</td>\n",
       "      <td>-0.8</td>\n",
       "      <td>1</td>\n",
       "      <td>0</td>\n",
       "      <td>NaN</td>\n",
       "    </tr>\n",
       "    <tr>\n",
       "      <th>4129</th>\n",
       "      <td>140Z1242664</td>\n",
       "      <td>23856220</td>\n",
       "      <td>4408523464</td>\n",
       "      <td>83101016</td>\n",
       "      <td>440329974003</td>\n",
       "      <td>31</td>\n",
       "      <td>Caucasian</td>\n",
       "      <td>English Language</td>\n",
       "      <td>Y</td>\n",
       "      <td>Currently Married</td>\n",
       "      <td>...</td>\n",
       "      <td>132.0</td>\n",
       "      <td>23.9</td>\n",
       "      <td>NaN</td>\n",
       "      <td>N</td>\n",
       "      <td>NaN</td>\n",
       "      <td>Human Milk</td>\n",
       "      <td>-2.2</td>\n",
       "      <td>1</td>\n",
       "      <td>0</td>\n",
       "      <td>NaN</td>\n",
       "    </tr>\n",
       "    <tr>\n",
       "      <th>4130</th>\n",
       "      <td>1505638122</td>\n",
       "      <td>55835896</td>\n",
       "      <td>4408541980</td>\n",
       "      <td>83296127</td>\n",
       "      <td>440332062274</td>\n",
       "      <td>27</td>\n",
       "      <td>Race: [other] or [not stated]</td>\n",
       "      <td>English Language</td>\n",
       "      <td>Y</td>\n",
       "      <td>Currently Married</td>\n",
       "      <td>...</td>\n",
       "      <td>142.0</td>\n",
       "      <td>15.0</td>\n",
       "      <td>NaN</td>\n",
       "      <td>N</td>\n",
       "      <td>0.0</td>\n",
       "      <td>NaN</td>\n",
       "      <td>100.3</td>\n",
       "      <td>3</td>\n",
       "      <td>1</td>\n",
       "      <td>NaN</td>\n",
       "    </tr>\n",
       "    <tr>\n",
       "      <th>4131</th>\n",
       "      <td>1305583234</td>\n",
       "      <td>53333273</td>\n",
       "      <td>4408553628</td>\n",
       "      <td>83416530</td>\n",
       "      <td>440333332621</td>\n",
       "      <td>28</td>\n",
       "      <td>Caucasian</td>\n",
       "      <td>English Language</td>\n",
       "      <td>Y</td>\n",
       "      <td>Currently Married</td>\n",
       "      <td>...</td>\n",
       "      <td>NaN</td>\n",
       "      <td>14.4</td>\n",
       "      <td>NaN</td>\n",
       "      <td>N</td>\n",
       "      <td>NaN</td>\n",
       "      <td>Human Milk</td>\n",
       "      <td>-2.9</td>\n",
       "      <td>4</td>\n",
       "      <td>0</td>\n",
       "      <td>NaN</td>\n",
       "    </tr>\n",
       "    <tr>\n",
       "      <th>4132</th>\n",
       "      <td>1505523113</td>\n",
       "      <td>53835465</td>\n",
       "      <td>4408580282</td>\n",
       "      <td>83711620</td>\n",
       "      <td>440336188300</td>\n",
       "      <td>22</td>\n",
       "      <td>Black race</td>\n",
       "      <td>English Language</td>\n",
       "      <td>Y</td>\n",
       "      <td>Currently Married</td>\n",
       "      <td>...</td>\n",
       "      <td>141.0</td>\n",
       "      <td>14.8</td>\n",
       "      <td>NaN</td>\n",
       "      <td>N</td>\n",
       "      <td>0.0</td>\n",
       "      <td>NaN</td>\n",
       "      <td>103.2</td>\n",
       "      <td>9</td>\n",
       "      <td>1</td>\n",
       "      <td>NaN</td>\n",
       "    </tr>\n",
       "  </tbody>\n",
       "</table>\n",
       "<p>4133 rows × 98 columns</p>\n",
       "</div>"
      ],
      "text/plain": [
       "     MaternalPatientID  MaternalMedicalRecordNumber  ChildPatientID  \\\n",
       "0           1305371312                     45688038     44010055666   \n",
       "1           1505532815                     48870872     44010068969   \n",
       "2           4407414710                     78492406     44010436597   \n",
       "3           1404830468                     50478459     44010496774   \n",
       "4           1406563734                     79711888     44010497458   \n",
       "...                ...                          ...             ...   \n",
       "4128        4408307041                     80778864      4408487557   \n",
       "4129       140Z1242664                     23856220      4408523464   \n",
       "4130        1505638122                     55835896      4408541980   \n",
       "4131        1305583234                     53333273      4408553628   \n",
       "4132        1505523113                     53835465      4408580282   \n",
       "\n",
       "      ChildMedicalRecordNumber  ChildEncounterID  MaternalAgeAtDelivery  \\\n",
       "0                     87656644      440501698459                     34   \n",
       "1                     87669963      440504054744                     40   \n",
       "2                     88007435      440522143899                     34   \n",
       "3                     88064170      440534232207                     30   \n",
       "4                     88064856      440534411559                     27   \n",
       "...                        ...               ...                    ...   \n",
       "4128                  82710434      440325858050                     33   \n",
       "4129                  83101016      440329974003                     31   \n",
       "4130                  83296127      440332062274                     27   \n",
       "4131                  83416530      440333332621                     28   \n",
       "4132                  83711620      440336188300                     22   \n",
       "\n",
       "                       MaternalRace  MaternalLanguage MyChartAccess  \\\n",
       "0                         Caucasian  English Language             Y   \n",
       "1                         Caucasian  English Language             Y   \n",
       "2                        Black race  English Language             Y   \n",
       "3                        Black race  English Language             Y   \n",
       "4                         Caucasian  English Language             Y   \n",
       "...                             ...               ...           ...   \n",
       "4128                      Caucasian  English Language             Y   \n",
       "4129                      Caucasian  English Language             Y   \n",
       "4130  Race: [other] or [not stated]  English Language             Y   \n",
       "4131                      Caucasian  English Language             Y   \n",
       "4132                     Black race  English Language             Y   \n",
       "\n",
       "     LatestMaritalStatus  ... MaxSodium  MinHemoglobin  NoUrineOutputShift  \\\n",
       "0      Currently Married  ...     131.0            6.2                 NaN   \n",
       "1      Currently Married  ...       NaN            NaN                 NaN   \n",
       "2      Currently Married  ...     140.0           15.7                 NaN   \n",
       "3       Unmarried person  ...     135.0           15.0                 NaN   \n",
       "4       Unmarried person  ...     145.0           10.5                 NaN   \n",
       "...                  ...  ...       ...            ...                 ...   \n",
       "4128   Currently Married  ...       NaN            NaN                 NaN   \n",
       "4129   Currently Married  ...     132.0           23.9                 NaN   \n",
       "4130   Currently Married  ...     142.0           15.0                 NaN   \n",
       "4131   Currently Married  ...       NaN           14.4                 NaN   \n",
       "4132   Currently Married  ...     141.0           14.8                 NaN   \n",
       "\n",
       "     FailedHearing  CarSeatTestFailures  FeedingType PercentWeightLoss  \\\n",
       "0                N                  0.0   Human Milk              -4.0   \n",
       "1                N                  NaN          NaN              -6.7   \n",
       "2                N                  0.0          NaN              -2.9   \n",
       "3                N                  0.0          NaN               8.0   \n",
       "4                N                  0.0          NaN             150.8   \n",
       "...            ...                  ...          ...               ...   \n",
       "4128           NaN                  NaN   Human Milk              -0.8   \n",
       "4129             N                  NaN   Human Milk              -2.2   \n",
       "4130             N                  0.0          NaN             100.3   \n",
       "4131             N                  NaN   Human Milk              -2.9   \n",
       "4132             N                  0.0          NaN             103.2   \n",
       "\n",
       "     ChildNumberOfAntibioticDays ChildBloodCultureCount HighestIVH_Grade  \n",
       "0                              1                      1              NaN  \n",
       "1                              1                      0              NaN  \n",
       "2                              1                      1              NaN  \n",
       "3                              2                      1              NaN  \n",
       "4                              8                      1              NaN  \n",
       "...                          ...                    ...              ...  \n",
       "4128                           1                      0              NaN  \n",
       "4129                           1                      0              NaN  \n",
       "4130                           3                      1              NaN  \n",
       "4131                           4                      0              NaN  \n",
       "4132                           9                      1              NaN  \n",
       "\n",
       "[4133 rows x 98 columns]"
      ]
     },
     "execution_count": 2,
     "metadata": {},
     "output_type": "execute_result"
    }
   ],
   "source": [
    "# High risk data\n",
    "'MaternalPatientID', 'MaternalMedicalRecordNumber', \n",
    "'ChildPatientID','ChildMedicalRecordNumber', \n",
    "\n",
    "#'ChildEncounterID', \n",
    "# Clinic Data\n",
    "# Maternal Demographic Characteristics\n",
    "'MaternalAgeAtDelivery', # >30 age risky mother\n",
    "'MaternalRace', \n",
    "#'MaternalLanguage', \n",
    "#'MyChartAccess', # pval 0.93 chi2 0.0007\n",
    "'LatestMaritalStatus', \n",
    "'YearsOfEducation', # Only 5% data we can just mentioned this statistical results\n",
    "# MWU for yearsofeducation p 0.66 thats meant doesnt significant for readmission\n",
    "'Gravida', # Significant\n",
    "'Parity', # Significant\n",
    "'DeliveryDate', # For season or month \n",
    "'GestationalAge_Weeks', #\n",
    "'GestAge_Days', # More continious continious data better than splitted data\n",
    "'ChildDeathDate', # 25 dead baby but only 2 baby admitted or only 6 admitted\n",
    "# Also 18 baby dead at first hour they could be excluded\n",
    "'MaternalDeathDate', \n",
    "# Children demographic characteristics\n",
    "'ChildGender', # p 0.43 didnt significant\n",
    "'ChildRace', # Unnecessary\n",
    "'ChildEthnicity', # Unnecessary\n",
    "\n",
    "# Prenatal Characteristics\n",
    "'Mother_BMI_AtDelivery', \n",
    "'PrePregnancyWeight_KG',\n",
    "'PositiveDrugScreenDuringPregnancy', #p 0.001 doesnt significant\n",
    "'Alcohol abuse', # p val 0.93\n",
    "'Smoking during pregnancy', # 0.013\n",
    "# Enfections\n",
    "'HepB_PositiveDuringPregnancy', # p val 0.42\n",
    "'HCV_PositiveDuringPregnancy', #0.31\n",
    "'HIV_PositiveDuringPregnancy', # 0.83\n",
    "'SyphilisPositiveDuringPregnancy', # 0.55\n",
    "'GBS_PositiveDuringPregnancy', # 0.016\n",
    "'AnyInfection' #0.118\n",
    "# Prenatal Complications and Other Situations\n",
    "'Antepartum Haemorrhage', #0.001\n",
    "'Eclampsia', #0.54\n",
    "'IUGR', # 0.02\n",
    "'Maternal chronic hypertension', #0.51\n",
    "'Maternal Diabetes', # 0.84\n",
    "'Maternal pregnancy-induced hypertension', # 0.022\n",
    "'Oligohydramnios', #0.191\n",
    "'Placenta previa', # 0.59\n",
    "'Polyhydramnios', # 0.78\n",
    "'Pre-eclampsia', #0.70\n",
    "'Pregnancy Complications', # 0.09\n",
    "'Preterm premature rupture of membranes', #0.01\n",
    "'Spontaneous abortion', #0.62\n",
    "'Umbilical cord prolapse', #0.26\n",
    "\n",
    "\n",
    "'Vaginal delivery', # 0.12\n",
    "# Drop This Features because doesnt have data NA all of there\n",
    "# SSRI_DuringPregnancy,Suboxone_DuringPregnancy\n",
    "#  \n",
    "# Natal and Delivery Characteristics\n",
    "'DeliveryType', \n",
    "'ROM_Time', # When I looking biger than 24*60 minutes I found 25515 line. This feature doesnt meaningful\n",
    "'MultipleGestation', # 0.234\n",
    "\n",
    "# ER visit Characteristics\n",
    "'ER_VisitDuringPregnancy', # 0.0001\n",
    "'ChildER_VisitFirstMonth', #\n",
    "'ChildReadmissionFirstMonth', \n",
    "'ChildOfficeVisitsFirstMonth', #0.0001 bu this is after the discharge feature\n",
    "\n",
    "'AppointmentMadeDuringAdmission', #0.72\n",
    "# Ward characteristics\n",
    "'ChildLengthOfStayHours', # 0.006\n",
    "'DischargeMonth', # 0.176\n",
    "'BirthWeight_Grams', # 0.000001\n",
    "'SGA', \n",
    "# Postnatal Characteristics       \n",
    "'Apgar1Minute', # 0.001\n",
    "'Apgar5Minute', # 0.82\n",
    "'Cord_pH_Venous_Date', \n",
    "'Cord_pH_Venous', \n",
    "'Cord_pH_Arterial_Date',\n",
    "'Cord_pH_Arterial', # 0.56\n",
    "'MaxHeartRate', #0.02\n",
    "'MinHeartRate', #0.2\n",
    "'AvgHeartRate', #0.4\n",
    "'AvgPulseOx', #0.008\n",
    "'Desaturations', #0.159\n",
    "'MaxTemperature', # 0.38\n",
    "'MinTemperature', # 0.003\n",
    "'MinBloodGlucose', # 0.70\n",
    "'MaxBloodGlucose', # 0.12\n",
    "'MinSerumBilirubin', # 0.72\n",
    "'MaxSerumBilirubin', #0.26\n",
    "'MaxTranscutaneousBilirubin',\n",
    "'MinTranscutaneousBilirubin', #<0.0001\n",
    "'Phototherapy', #0.92\n",
    "'FailedHearing', #0.012\n",
    "'CarSeatTestFailures', #0.30\n",
    "'FeedingType', #<0.0001\n",
    "'PercentWeightLoss' #<0.0001"
   ]
  },
  {
   "cell_type": "code",
   "execution_count": null,
   "metadata": {},
   "outputs": [],
   "source": []
  }
 ],
 "metadata": {
  "kernelspec": {
   "display_name": "neoras",
   "language": "python",
   "name": "python3"
  },
  "language_info": {
   "codemirror_mode": {
    "name": "ipython",
    "version": 3
   },
   "file_extension": ".py",
   "mimetype": "text/x-python",
   "name": "python",
   "nbconvert_exporter": "python",
   "pygments_lexer": "ipython3",
   "version": "3.11.11"
  }
 },
 "nbformat": 4,
 "nbformat_minor": 2
}
